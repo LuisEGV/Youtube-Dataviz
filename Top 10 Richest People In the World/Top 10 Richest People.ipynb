{
 "cells": [
  {
   "cell_type": "code",
   "execution_count": 1,
   "metadata": {},
   "outputs": [],
   "source": [
    "# We will be using Pandas for reading al the relevant datasets.\n",
    "import pandas as pd\n"
   ]
  },
  {
   "cell_type": "code",
   "execution_count": 11,
   "metadata": {},
   "outputs": [],
   "source": [
    "# Here we read the data from the Energy Dataset\n",
    "df = pd.read_excel('uncleanedData.xlsx', header=None)\n",
    "# We make a time range"
   ]
  },
  {
   "cell_type": "code",
   "execution_count": 47,
   "metadata": {},
   "outputs": [
    {
     "data": {
      "text/plain": [
       "array([  nan, 2000., 2001., 2002., 2003., 2004., 2005., 2006., 2007.,\n",
       "       2008., 2009., 2010., 2011., 2012., 2013., 2014., 2015., 2016.,\n",
       "       2017., 2018., 2019., 2020.])"
      ]
     },
     "execution_count": 47,
     "metadata": {},
     "output_type": "execute_result"
    }
   ],
   "source": [
    "df.iloc[:,6].unique()"
   ]
  },
  {
   "cell_type": "code",
   "execution_count": 57,
   "metadata": {},
   "outputs": [
    {
     "data": {
      "text/plain": [
       "0                             NaN\n",
       "1                      Bill Gates\n",
       "2                   Larry Ellison\n",
       "3                      Paul Allen\n",
       "4                  Warren Buffett\n",
       "5          Karl and Theo Albrecht\n",
       "6             Al-Waleed bin Talal\n",
       "7                S. Robson Walton\n",
       "8                   Masayoshi Son\n",
       "9                    Michael Dell\n",
       "10                Kenneth Thomson\n",
       "11                     Bill Gates\n",
       "12                 Warren Buffett\n",
       "13                     Paul Allen\n",
       "14                  Larry Ellison\n",
       "15         Karl and Theo Albrecht\n",
       "16            Al-Waleed bin Talal\n",
       "17                    Jim Walton*\n",
       "18                   John Walton*\n",
       "19              S. Robson Walton*\n",
       "20                  Alice Walton*\n",
       "21                  Helen Walton*\n",
       "22                     Bill Gates\n",
       "23                 Warren Buffett\n",
       "24         Karl and Theo Albrecht\n",
       "25                     Paul Allen\n",
       "26                  Larry Ellison\n",
       "27                    Jim Walton*\n",
       "28                   John Walton*\n",
       "29                  Alice Walton*\n",
       "                  ...            \n",
       "183                    Jeff Bezos\n",
       "184                    Bill Gates\n",
       "185                Warren Buffett\n",
       "186               Bernard Arnault\n",
       "187               Mark Zuckerberg\n",
       "188                Amancio Ortega\n",
       "189                   Carlos Slim\n",
       "190                  Charles Koch\n",
       "191                    David Koch\n",
       "192                 Larry Ellison\n",
       "193                    Jeff Bezos\n",
       "194                    Bill Gates\n",
       "195                Warren Buffett\n",
       "196               Bernard Arnault\n",
       "197                   Carlos Slim\n",
       "198                Amancio Ortega\n",
       "199                 Larry Ellison\n",
       "200               Mark Zuckerberg\n",
       "201             Michael Bloomberg\n",
       "202                    Larry Page\n",
       "203                    Jeff Bezos\n",
       "204                    Bill Gates\n",
       "205    Bernard Arnault and family\n",
       "206                Warren Buffett\n",
       "207                 Larry Ellison\n",
       "208                Amancio Ortega\n",
       "209               Mark Zuckerberg\n",
       "210                    Jim Walton\n",
       "211                  Alice Walton\n",
       "212              S. Robson Walton\n",
       "Name: 1, Length: 213, dtype: object"
      ]
     },
     "execution_count": 57,
     "metadata": {},
     "output_type": "execute_result"
    }
   ],
   "source": [
    "df.iloc[:,1]"
   ]
  },
  {
   "cell_type": "code",
   "execution_count": 67,
   "metadata": {},
   "outputs": [],
   "source": [
    "yearList = []\n",
    "\n",
    "\n",
    "for i in range(1,len(df.iloc[:,6].unique())):\n",
    "    yearList.append([])"
   ]
  },
  {
   "cell_type": "code",
   "execution_count": 66,
   "metadata": {},
   "outputs": [
    {
     "data": {
      "text/plain": [
       "[[1],\n",
       " [],\n",
       " [],\n",
       " [],\n",
       " [],\n",
       " [],\n",
       " [],\n",
       " [],\n",
       " [],\n",
       " [],\n",
       " [],\n",
       " [],\n",
       " [],\n",
       " [],\n",
       " [],\n",
       " [],\n",
       " [],\n",
       " [],\n",
       " [],\n",
       " [],\n",
       " []]"
      ]
     },
     "execution_count": 66,
     "metadata": {},
     "output_type": "execute_result"
    }
   ],
   "source": [
    "yearList"
   ]
  },
  {
   "cell_type": "code",
   "execution_count": 87,
   "metadata": {},
   "outputs": [
    {
     "data": {
      "text/plain": [
       "'$60.0'"
      ]
     },
     "execution_count": 87,
     "metadata": {},
     "output_type": "execute_result"
    }
   ],
   "source": [
    "df.iloc[:,2][1][0:-8]"
   ]
  },
  {
   "cell_type": "code",
   "execution_count": 90,
   "metadata": {},
   "outputs": [
    {
     "data": {
      "text/plain": [
       "array([nan, 'Bill Gates', 'Larry Ellison', 'Paul Allen', 'Warren Buffett',\n",
       "       'Karl\\xa0and\\xa0Theo Albrecht', 'Al-Waleed bin Talal',\n",
       "       'S. Robson Walton', 'Masayoshi Son', 'Michael Dell',\n",
       "       'Kenneth Thomson', 'Jim Walton*', 'John Walton*',\n",
       "       'S. Robson Walton*', 'Alice Walton*', 'Helen Walton*',\n",
       "       'Karl Albrecht', 'Lakshmi Mittal', 'Carlos Slim', 'Ingvar Kamprad',\n",
       "       'Bernard Arnault', 'Li Ka-shing', 'Sheldon Adelson',\n",
       "       'Amancio Ortega', 'David Thomson', 'Mukesh Ambani', 'Anil Ambani',\n",
       "       'Kushal Pal Singh', 'Oleg Deripaska', 'Theo Albrecht',\n",
       "       'Carlos Slim\\xa0& family', 'Eike Batista',\n",
       "       'Christy Walton\\xa0& family', 'Stefan Persson', 'Charles Koch',\n",
       "       'David Koch', 'Liliane Bettencourt\\xa0& family', 'Jim Walton',\n",
       "       'Christy Walton', 'Liliane Bettencourt', 'Jeff Bezos',\n",
       "       'Mark Zuckerberg', 'Michael Bloomberg', 'Larry Page',\n",
       "       'Bernard Arnault\\xa0and family', 'Alice Walton'], dtype=object)"
      ]
     },
     "execution_count": 90,
     "metadata": {},
     "output_type": "execute_result"
    }
   ],
   "source": [
    "df.iloc[:,1].unique()"
   ]
  },
  {
   "cell_type": "code",
   "execution_count": 93,
   "metadata": {},
   "outputs": [
    {
     "data": {
      "text/plain": [
       "'S. Robson Walton'"
      ]
     },
     "execution_count": 93,
     "metadata": {},
     "output_type": "execute_result"
    }
   ],
   "source": [
    "df.iloc[:,1][i]"
   ]
  },
  {
   "cell_type": "code",
   "execution_count": 95,
   "metadata": {},
   "outputs": [
    {
     "data": {
      "text/plain": [
       "'S. Robson Walton'"
      ]
     },
     "execution_count": 95,
     "metadata": {},
     "output_type": "execute_result"
    }
   ],
   "source": [
    "df.iloc[:,1].unique()[7]"
   ]
  },
  {
   "cell_type": "code",
   "execution_count": 104,
   "metadata": {},
   "outputs": [
    {
     "name": "stdout",
     "output_type": "stream",
     "text": [
      "2000.0\n",
      "2001.0\n",
      "2002.0\n",
      "2003.0\n",
      "2004.0\n",
      "2005.0\n",
      "2006.0\n",
      "2007.0\n",
      "2008.0\n",
      "2009.0\n",
      "2010.0\n",
      "2011.0\n",
      "2012.0\n",
      "2013.0\n",
      "2014.0\n",
      "2015.0\n",
      "2016.0\n",
      "2017.0\n",
      "2018.0\n",
      "2019.0\n",
      "2020.0\n"
     ]
    }
   ],
   "source": [
    "for j in range(1,len(df.iloc[:,6].unique())):\n",
    "    print(df.iloc[:,6].unique()[j])"
   ]
  },
  {
   "cell_type": "code",
   "execution_count": 107,
   "metadata": {},
   "outputs": [
    {
     "data": {
      "text/plain": [
       "'$54.1\\xa0'"
      ]
     },
     "execution_count": 107,
     "metadata": {},
     "output_type": "execute_result"
    }
   ],
   "source": [
    "df.iloc[:,2][i][0:-8]"
   ]
  },
  {
   "cell_type": "code",
   "execution_count": 109,
   "metadata": {},
   "outputs": [],
   "source": [
    "BillionairsList = []\n",
    "\n",
    "for j in range(1,len(df.iloc[:,6].unique())):\n",
    "    for i in range(1,len(df.iloc[:,0])):\n",
    "        for x in range(1,len(df.iloc[:,1].unique())):\n",
    "            if df.iloc[:,1][i] == df.iloc[:,1].unique()[x]:\n",
    "                yearList[j-1].append(df.iloc[:,2][i][0:-8])\n",
    "            else:\n",
    "                yearList[j-1].append(0)\n"
   ]
  },
  {
   "cell_type": "code",
   "execution_count": 111,
   "metadata": {},
   "outputs": [
    {
     "data": {
      "text/plain": [
       "10440"
      ]
     },
     "execution_count": 111,
     "metadata": {},
     "output_type": "execute_result"
    }
   ],
   "source": [
    "len(yearList[0])"
   ]
  },
  {
   "cell_type": "code",
   "execution_count": 99,
   "metadata": {},
   "outputs": [],
   "source": [
    "finalDataset = pd.DataFrame.from_records(yearList)"
   ]
  },
  {
   "cell_type": "code",
   "execution_count": 102,
   "metadata": {},
   "outputs": [],
   "source": [
    "finalDataset = finalDataset.T "
   ]
  },
  {
   "cell_type": "code",
   "execution_count": 103,
   "metadata": {},
   "outputs": [],
   "source": [
    "finalDataset.to_csv('RichestPeople.csv',index=False)"
   ]
  },
  {
   "cell_type": "code",
   "execution_count": null,
   "metadata": {},
   "outputs": [],
   "source": []
  }
 ],
 "metadata": {
  "kernelspec": {
   "display_name": "Python 3",
   "language": "python",
   "name": "python3"
  },
  "language_info": {
   "codemirror_mode": {
    "name": "ipython",
    "version": 3
   },
   "file_extension": ".py",
   "mimetype": "text/x-python",
   "name": "python",
   "nbconvert_exporter": "python",
   "pygments_lexer": "ipython3",
   "version": "3.7.0"
  }
 },
 "nbformat": 4,
 "nbformat_minor": 2
}
