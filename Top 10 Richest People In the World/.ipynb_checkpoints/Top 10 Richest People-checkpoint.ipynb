{
 "cells": [
  {
   "cell_type": "code",
   "execution_count": 1,
   "metadata": {},
   "outputs": [],
   "source": [
    "# We will be using Pandas for reading al the relevant datasets.\n",
    "import pandas as pd\n"
   ]
  },
  {
   "cell_type": "code",
   "execution_count": 11,
   "metadata": {},
   "outputs": [],
   "source": [
    "# Here we read the data from the Energy Dataset\n",
    "df = pd.read_excel('uncleanedData.xlsx', header=None)\n",
    "# We make a time range"
   ]
  },
  {
   "cell_type": "code",
   "execution_count": 47,
   "metadata": {},
   "outputs": [
    {
     "data": {
      "text/plain": [
       "array([  nan, 2000., 2001., 2002., 2003., 2004., 2005., 2006., 2007.,\n",
       "       2008., 2009., 2010., 2011., 2012., 2013., 2014., 2015., 2016.,\n",
       "       2017., 2018., 2019., 2020.])"
      ]
     },
     "execution_count": 47,
     "metadata": {},
     "output_type": "execute_result"
    }
   ],
   "source": [
    "df.iloc[:,6].unique()"
   ]
  },
  {
   "cell_type": "code",
   "execution_count": 57,
   "metadata": {},
   "outputs": [
    {
     "data": {
      "text/plain": [
       "0                             NaN\n",
       "1                      Bill Gates\n",
       "2                   Larry Ellison\n",
       "3                      Paul Allen\n",
       "4                  Warren Buffett\n",
       "5          Karl and Theo Albrecht\n",
       "6             Al-Waleed bin Talal\n",
       "7                S. Robson Walton\n",
       "8                   Masayoshi Son\n",
       "9                    Michael Dell\n",
       "10                Kenneth Thomson\n",
       "11                     Bill Gates\n",
       "12                 Warren Buffett\n",
       "13                     Paul Allen\n",
       "14                  Larry Ellison\n",
       "15         Karl and Theo Albrecht\n",
       "16            Al-Waleed bin Talal\n",
       "17                    Jim Walton*\n",
       "18                   John Walton*\n",
       "19              S. Robson Walton*\n",
       "20                  Alice Walton*\n",
       "21                  Helen Walton*\n",
       "22                     Bill Gates\n",
       "23                 Warren Buffett\n",
       "24         Karl and Theo Albrecht\n",
       "25                     Paul Allen\n",
       "26                  Larry Ellison\n",
       "27                    Jim Walton*\n",
       "28                   John Walton*\n",
       "29                  Alice Walton*\n",
       "                  ...            \n",
       "183                    Jeff Bezos\n",
       "184                    Bill Gates\n",
       "185                Warren Buffett\n",
       "186               Bernard Arnault\n",
       "187               Mark Zuckerberg\n",
       "188                Amancio Ortega\n",
       "189                   Carlos Slim\n",
       "190                  Charles Koch\n",
       "191                    David Koch\n",
       "192                 Larry Ellison\n",
       "193                    Jeff Bezos\n",
       "194                    Bill Gates\n",
       "195                Warren Buffett\n",
       "196               Bernard Arnault\n",
       "197                   Carlos Slim\n",
       "198                Amancio Ortega\n",
       "199                 Larry Ellison\n",
       "200               Mark Zuckerberg\n",
       "201             Michael Bloomberg\n",
       "202                    Larry Page\n",
       "203                    Jeff Bezos\n",
       "204                    Bill Gates\n",
       "205    Bernard Arnault and family\n",
       "206                Warren Buffett\n",
       "207                 Larry Ellison\n",
       "208                Amancio Ortega\n",
       "209               Mark Zuckerberg\n",
       "210                    Jim Walton\n",
       "211                  Alice Walton\n",
       "212              S. Robson Walton\n",
       "Name: 1, Length: 213, dtype: object"
      ]
     },
     "execution_count": 57,
     "metadata": {},
     "output_type": "execute_result"
    }
   ],
   "source": [
    "df.iloc[:,1]"
   ]
  },
  {
   "cell_type": "code",
   "execution_count": 54,
   "metadata": {},
   "outputs": [],
   "source": [
    "yearList = []\n",
    "\n",
    "\n",
    "for i in range(1,len(df.iloc[:,6].unique())):\n",
    "    yearList.append([])"
   ]
  },
  {
   "cell_type": "code",
   "execution_count": 65,
   "metadata": {},
   "outputs": [],
   "source": [
    "yearList[0].append(1)"
   ]
  },
  {
   "cell_type": "code",
   "execution_count": 62,
   "metadata": {},
   "outputs": [
    {
     "data": {
      "text/plain": [
       "0       NaN\n",
       "1    2000.0\n",
       "2    2000.0\n",
       "3    2000.0\n",
       "4    2000.0\n",
       "Name: 6, dtype: float64"
      ]
     },
     "execution_count": 62,
     "metadata": {},
     "output_type": "execute_result"
    }
   ],
   "source": [
    "df.iloc[:,6].head()"
   ]
  },
  {
   "cell_type": "code",
   "execution_count": null,
   "metadata": {},
   "outputs": [],
   "source": [
    "BillionairsList = []\n",
    "\n",
    "for j in range(1,len(df.iloc[:,6].unique())):\n",
    "    for i in range(1,len(df.iloc[:,0])):\n",
    "        if df.iloc[:,6][i] == df.iloc[:,6].unique()[j]:\n",
    "            if df.iloc[:,1][i] in BillionairsList:\n",
    "                yearList.append\n",
    "                \n",
    "            \n",
    "        \n",
    "        if df.iloc[:,1][i] in BillionairsList:\n",
    "        "
   ]
  },
  {
   "cell_type": "code",
   "execution_count": null,
   "metadata": {},
   "outputs": [],
   "source": []
  },
  {
   "cell_type": "code",
   "execution_count": null,
   "metadata": {},
   "outputs": [],
   "source": []
  }
 ],
 "metadata": {
  "kernelspec": {
   "display_name": "Python 3",
   "language": "python",
   "name": "python3"
  },
  "language_info": {
   "codemirror_mode": {
    "name": "ipython",
    "version": 3
   },
   "file_extension": ".py",
   "mimetype": "text/x-python",
   "name": "python",
   "nbconvert_exporter": "python",
   "pygments_lexer": "ipython3",
   "version": "3.7.0"
  }
 },
 "nbformat": 4,
 "nbformat_minor": 2
}
